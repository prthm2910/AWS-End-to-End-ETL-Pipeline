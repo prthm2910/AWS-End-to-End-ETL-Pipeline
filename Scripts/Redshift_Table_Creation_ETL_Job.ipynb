{
 "cells": [
  {
   "cell_type": "code",
   "execution_count": null,
   "metadata": {
    "id": "zVwB3RV_YvQz"
   },
   "outputs": [],
   "source": [
    "import boto3\n",
    "\n",
    "# ========================== #\n",
    "#     AWS Glue → Redshift    #\n",
    "# Auto Table Creation Script #\n",
    "# ========================== #\n",
    "\n",
    "# --- Configuration Block ---\n",
    "# Define your AWS resources and connection parameters here\n",
    "glue_db = \"aw_db\"  # Name of the Glue catalog database\n",
    "redshift_cluster_id = \"redshift-cluster-2\"  # Your Redshift cluster identifier\n",
    "redshift_db = \"dev\"  # Redshift database name\n",
    "redshift_user = \"awsuser\"  # Redshift user with DDL privileges\n",
    "redshift_schema = \"public\"  # Schema in Redshift to create tables\n",
    "region = \"ap-south-1\"  # AWS Region\n",
    "\n",
    "# --- Initialize Boto3 Clients ---\n",
    "# These clients allow us to interact with Glue and Redshift using the AWS SDK\n",
    "glue = boto3.client(\"glue\", region_name=region)\n",
    "redshift = boto3.client(\"redshift-data\", region_name=region)\n",
    "\n"
   ]
  },
  {
   "cell_type": "code",
   "execution_count": null,
   "metadata": {
    "id": "9jIR3r6OY_HO"
   },
   "outputs": [],
   "source": [
    "# --- Glue to Redshift Type Mapper ---\n",
    "# Converts Glue data types to compatible Redshift data types\n",
    "def map_glue_to_redshift(glue_type):\n",
    "    mapping = {\n",
    "        \"string\": \"VARCHAR(256)\",    # Default string size — tune based on your workload\n",
    "        \"int\": \"INTEGER\",\n",
    "        \"bigint\": \"BIGINT\",\n",
    "        \"double\": \"FLOAT8\",\n",
    "        \"float\": \"FLOAT4\",\n",
    "        \"boolean\": \"BOOLEAN\",\n",
    "        \"timestamp\": \"TIMESTAMP\",\n",
    "        \"date\": \"DATE\"\n",
    "    }\n",
    "    # Fallback to VARCHAR for any unknown type to avoid breaking DDL\n",
    "    return mapping.get(glue_type.lower(), \"VARCHAR(256)\")\n",
    "\n"
   ]
  },
  {
   "cell_type": "code",
   "execution_count": null,
   "metadata": {
    "id": "BS0ockk3ZB6i"
   },
   "outputs": [],
   "source": [
    "# --- Retrieve All Tables from Glue Catalog ---\n",
    "# Uses pagination to fetch metadata for all tables under the specified Glue database\n",
    "paginator = glue.get_paginator(\"get_tables\")\n",
    "pages = paginator.paginate(DatabaseName=glue_db)\n",
    "\n",
    "all_tables = []\n",
    "for page in pages:\n",
    "    for table in page[\"TableList\"]:\n",
    "        all_tables.append(table[\"Name\"])\n",
    "\n",
    "print(f\"Found {len(all_tables)} tables in Glue database '{glue_db}'\")\n",
    "\n"
   ]
  },
  {
   "cell_type": "code",
   "execution_count": null,
   "metadata": {
    "id": "KEdaRduGZD6x"
   },
   "outputs": [],
   "source": [
    "# --- Table Creation Loop ---\n",
    "# For every Glue table, construct a Redshift-compatible DDL and execute it\n",
    "for table in all_tables:\n",
    "    # Get full metadata for the current table\n",
    "    response = glue.get_table(DatabaseName=glue_db, Name=table)\n",
    "    columns = response[\"Table\"][\"StorageDescriptor\"][\"Columns\"]\n",
    "\n",
    "    # Construct CREATE TABLE IF NOT EXISTS SQL statement\n",
    "    ddl = f\"CREATE TABLE IF NOT EXISTS {redshift_schema}.{table} (\\n\"\n",
    "    ddl += \",\\n\".join([\n",
    "        f\"  {col['Name']} {map_glue_to_redshift(col['Type'])}\"\n",
    "        for col in columns\n",
    "    ])\n",
    "    ddl += \"\\n);\"\n",
    "\n",
    "    print(f\"\\nCreating table in Redshift: {table}\")\n",
    "    print(ddl)  # Optional: Log the SQL statement for debugging or audit\n",
    "\n",
    "    # --- Execute DDL in Redshift ---\n",
    "    try:\n",
    "        result = redshift.execute_statement(\n",
    "            ClusterIdentifier=redshift_cluster_id,\n",
    "            Database=redshift_db,\n",
    "            DbUser=redshift_user,\n",
    "            Sql=ddl\n",
    "        )\n",
    "        print(f\" Table '{table}' created successfully in Redshift.\")\n",
    "    except Exception as e:\n",
    "        # Catch and log any error for visibility — important for debugging and CI/CD\n",
    "        print(f\"Failed to create table '{table}': {e}\")\n"
   ]
  }
 ],
 "metadata": {
  "colab": {
   "authorship_tag": "ABX9TyPuuAKgK0imRJ/ET5E2vi7j",
   "provenance": []
  },
  "kernelspec": {
   "display_name": "Python 3",
   "name": "python3"
  },
  "language_info": {
   "name": "python"
  }
 },
 "nbformat": 4,
 "nbformat_minor": 0
}
